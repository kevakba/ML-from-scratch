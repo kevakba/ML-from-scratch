{
 "cells": [
  {
   "cell_type": "code",
   "execution_count": 1,
   "id": "64153385",
   "metadata": {},
   "outputs": [],
   "source": [
    "import numpy as np\n",
    "\n",
    "import matplotlib.pyplot as plt\n",
    "import seaborn as sns\n",
    "\n",
    "import warnings\n",
    "warnings.filterwarnings('ignore')"
   ]
  },
  {
   "cell_type": "code",
   "execution_count": 2,
   "id": "241e6a0a",
   "metadata": {},
   "outputs": [],
   "source": [
    "def predict(w,b,X):\n",
    "    '''\n",
    "    function to predict the y_hat\n",
    "    i.e. y_hat = X*w + b\n",
    "    '''\n",
    "    pred = X@w + b\n",
    "    return pred\n",
    "\n",
    "def fit(y, y_hat, X, w, b, iteration=10, lr=0.01, reg_coef = 0.001, regularisation=None):\n",
    "    '''\n",
    "    * arguments:\n",
    "     y = actual \n",
    "     y_har = predicted\n",
    "     X = features\n",
    "     w = parameters\n",
    "     b = bias\n",
    "     lr = learning rate\n",
    "     reg_coef = regularisation coefficient\n",
    "     regularisation = None or 'l1' or 'l2'\n",
    "     \n",
    "    * function to fit the linear regression model in the given dataset\n",
    "    * gradient descent has been used to update the w & b parameters\n",
    "    * lasso (l1) and ridge (l2) regularisation options are available\n",
    "    '''\n",
    "    grad_w = np.zeros((X.shape[1],1))\n",
    "    grad_b = 0\n",
    "    \n",
    "    for num_iter in range(iteration):\n",
    "        for i in range(X.shape[1]):\n",
    "            if regularisation==None:\n",
    "                grad_w[i] = np.sum((-2)*(y-y_hat)*(X[:,i].reshape(-1,1)))\n",
    "            if regularisation=='l2':\n",
    "                grad_w[i] = np.sum((-2)*(y-y_hat)*(X[:,i].reshape(-1,1))) + (2*reg_coef*w[i])\n",
    "            if regularisation=='l1':\n",
    "                grad_w[i] = np.sum((-2)*(y-y_hat)*(X[:,i].reshape(-1,1))) + (2*reg_coef*w[i]/np.abs(w[i]))\n",
    "        w = w - lr*grad_w\n",
    "        grad_b = np.sum((-2)*(y-y_hat))\n",
    "        b = b - lr*grad_b\n",
    "        y_hat = predict(w,b,X)\n",
    "    return w,b\n",
    "\n",
    "def calc_R2(y,y_hat):\n",
    "    '''\n",
    "    function to calculate the R2 score\n",
    "    R2 = [explained variance / total variance] = [1-(RSS/TSS)]\n",
    "    RSS = residual sum of square\n",
    "    TSS = total sum of square\n",
    "    '''\n",
    "    RSS = np.sum((y-y_hat)**2)\n",
    "    TSS = np.sum((y-np.mean(y_hat))**2)\n",
    "    out = 1-(RSS/TSS)\n",
    "    return out \n",
    "                               \n",
    "def main():\n",
    "    X = np.arange(5).reshape(-1,1)\n",
    "    y = np.arange(5).reshape(-1,1)\n",
    "    w = np.random.rand(X.shape[1],1)\n",
    "    b = np.random.rand()\n",
    "    y_pred = predict(w,b,X)\n",
    "    w,b = fit(y,y_pred,X,w,b, regularisation='l1')  \n",
    "    print('w=',w)\n",
    "    print('b=',b) \n",
    "    R2 = calc_R2(y,predict(w,b,X))\n",
    "    print('R2_score=',R2)\n",
    "    sns.scatterplot(X.reshape(1,-1)[0],y.reshape(1,-1)[0])\n",
    "    plt.plot(X,X@w+b,'r')\n",
    "    plt.show()\n",
    "                                       "
   ]
  },
  {
   "cell_type": "code",
   "execution_count": 3,
   "id": "846c3abe",
   "metadata": {
    "scrolled": false
   },
   "outputs": [
    {
     "name": "stdout",
     "output_type": "stream",
     "text": [
      "w= [[0.77662319]]\n",
      "b= 0.6367115664534887\n",
      "R2_score= 0.933264827097965\n"
     ]
    },
    {
     "data": {
      "image/png": "[encoded data removed]",
      "text/plain": [
       "<Figure size 432x288 with 1 Axes>"
      ]
     },
     "metadata": {
      "needs_background": "light"
     },
     "output_type": "display_data"
    }
   ],
   "source": [
    "if __name__=='__main__':\n",
    "    main()"
   ]
  }
 ],
 "metadata": {
  "kernelspec": {
   "display_name": "Python 3",
   "language": "python",
   "name": "python3"
  },
  "language_info": {
   "codemirror_mode": {
    "name": "ipython",
    "version": 3
   },
   "file_extension": ".py",
   "mimetype": "text/x-python",
   "name": "python",
   "nbconvert_exporter": "python",
   "pygments_lexer": "ipython3",
   "version": "3.8.8"
  }
 },
 "nbformat": 4,
 "nbformat_minor": 5
}
