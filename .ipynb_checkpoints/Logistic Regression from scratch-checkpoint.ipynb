{
 "cells": [
  {
   "cell_type": "code",
   "execution_count": 1,
   "id": "64153385",
   "metadata": {},
   "outputs": [],
   "source": [
    "import numpy as np\n",
    "\n",
    "import matplotlib.pyplot as plt\n",
    "import seaborn as sns\n",
    "\n",
    "import warnings\n",
    "warnings.filterwarnings('ignore')"
   ]
  },
  {
   "cell_type": "code",
   "execution_count": 2,
   "id": "241e6a0a",
   "metadata": {},
   "outputs": [],
   "source": [
    "def predict_proba(w,b,X):\n",
    "    '''\n",
    "    function to predict the y_hat\n",
    "    mul = X*w + b\n",
    "    y_hat = 1/(1+np.exp(-mul))\n",
    "    '''\n",
    "    mul = X*w + b\n",
    "    y_hat = 1/(1+np.exp(-mul))\n",
    "    return y_hat\n",
    "\n",
    "def predict_class(y_hat):\n",
    "    '''\n",
    "    * function to predict the class of data points\n",
    "    * here the threshold for classification is 0.5\n",
    "    '''\n",
    "    out_proba = np.empty((y_hat.shape[0],1))\n",
    "    for j in range(y_hat.shape[0]):\n",
    "        if y_hat[j]>0.5:\n",
    "            out_proba[j]=1\n",
    "        else:\n",
    "            out_proba[j]=0\n",
    "    return out_proba\n",
    "\n",
    "def fit(y, y_hat, X, w, b, iteration=100, lr=0.01, reg_coef = 0.001, regularisation=None):\n",
    "    '''\n",
    "    * arguments:\n",
    "     y = actual \n",
    "     y_har = predicted\n",
    "     X = features\n",
    "     w = parameters\n",
    "     b = bias\n",
    "     lr = learning rate\n",
    "     reg_coef = regularisation coefficient\n",
    "     regularisation = None or 'l1' or 'l2'\n",
    "     \n",
    "    * function to fit the logistic regression model in the given dataset\n",
    "    * gradient descent has been used to update the w & b parameters\n",
    "    * lasso (l1) and ridge (l2) regularisation options are available\n",
    "    '''\n",
    "    grad_w = np.zeros((X.shape[1],1))\n",
    "    grad_b = 0\n",
    "    \n",
    "    for num_iter in range(iteration):\n",
    "        for i in range(X.shape[1]):\n",
    "            if regularisation==None:\n",
    "                grad_w[i] = np.sum((-1)*(y-y_hat)*(X[:,i].reshape(-1,1)))\n",
    "            if regularisation=='l2':\n",
    "                grad_w[i] = np.sum((-1)*(y-y_hat)*(X[:,i].reshape(-1,1))) + (2*reg_coef*w[i])\n",
    "            if regularisation=='l1':\n",
    "                grad_w[i] = np.sum((-1)*(y-y_hat)*(X[:,i].reshape(-1,1))) + (2*reg_coef*w[i]/np.abs(w[i]))\n",
    "        w = w - lr*grad_w\n",
    "        grad_b = np.sum((-2)*(y-y_hat))\n",
    "        b = b - lr*grad_b\n",
    "        y_hat = predict_proba(w,b,X)\n",
    "    return w,b\n",
    "\n",
    "def calc_accuracy(y,y_hat_class,threshold=0.5):\n",
    "    '''\n",
    "    function to calculate the accuracy score\n",
    "    '''\n",
    "    tot = y.shape[0]\n",
    "    count=0\n",
    "    for i,j in zip(y,y_hat_class):\n",
    "        if i==j:\n",
    "            count+=1\n",
    "    out = count/tot\n",
    "    return out \n",
    "                               \n",
    "def main():\n",
    "    X = np.arange(5).reshape(-1,1)\n",
    "    y = np.array([0,0,1,1,1]).reshape(-1,1)\n",
    "    w = np.random.rand(X.shape[1],1)\n",
    "    b = np.random.rand()\n",
    "    y_pred = predict_proba(w,b,X)\n",
    "    w,b = fit(y,y_pred,X,w,b, regularisation='l2')  \n",
    "    print('w=',w)\n",
    "    print('b=',b) \n",
    "    probabs = predict_proba(w,b,X)\n",
    "    classes = predict_class(probabs)\n",
    "    acc = calc_accuracy(y,classes)\n",
    "    print('calc_accuracy=',acc)\n",
    "    plt.figure(figsize=(10,5))\n",
    "    plt.subplot(1,2,1)\n",
    "    sns.scatterplot(X.reshape(1,-1)[0],y.reshape(1,-1)[0])\n",
    "    plt.title('Actual class')\n",
    "    plt.subplot(1,2,2)\n",
    "    sns.scatterplot(X.reshape(1,-1)[0],classes.reshape(1,-1)[0])\n",
    "    plt.title('Predicted class')\n",
    "    plt.show()\n",
    "                                       "
   ]
  },
  {
   "cell_type": "code",
   "execution_count": 3,
   "id": "846c3abe",
   "metadata": {
    "scrolled": false
   },
   "outputs": [
    {
     "name": "stdout",
     "output_type": "stream",
     "text": [
      "w= [[0.99053249]]\n",
      "b= -0.8486437846570776\n",
      "calc_accuracy= 0.8\n"
     ]
    },
    {
     "data": {
      "image/png": "[encoded data removed]",
      "text/plain": [
       "<Figure size 720x360 with 2 Axes>"
      ]
     },
     "metadata": {
      "needs_background": "light"
     },
     "output_type": "display_data"
    }
   ],
   "source": [
    "if __name__=='__main__':\n",
    "    main()"
   ]
  }
 ],
 "metadata": {
  "kernelspec": {
   "display_name": "Python 3",
   "language": "python",
   "name": "python3"
  },
  "language_info": {
   "codemirror_mode": {
    "name": "ipython",
    "version": 3
   },
   "file_extension": ".py",
   "mimetype": "text/x-python",
   "name": "python",
   "nbconvert_exporter": "python",
   "pygments_lexer": "ipython3",
   "version": "3.8.8"
  }
 },
 "nbformat": 4,
 "nbformat_minor": 5
}
