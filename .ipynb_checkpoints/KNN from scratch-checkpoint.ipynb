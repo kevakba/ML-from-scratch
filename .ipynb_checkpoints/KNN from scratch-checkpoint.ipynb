{
 "cells": [
  {
   "cell_type": "code",
   "execution_count": 1,
   "id": "89f81459",
   "metadata": {},
   "outputs": [],
   "source": [
    "import numpy as np\n",
    "import pandas as pd\n",
    "import statistics\n",
    "\n",
    "import matplotlib.pyplot as plt\n",
    "import seaborn as sns\n",
    "\n",
    "import warnings\n",
    "warnings.filterwarnings('ignore')"
   ]
  },
  {
   "cell_type": "code",
   "execution_count": 2,
   "id": "e5e6b8b1",
   "metadata": {},
   "outputs": [],
   "source": [
    "def knn_predict(X_train, y_train, test_, K=5):\n",
    "    '''\n",
    "    function to predict the classs with KNN algorithm\n",
    "    arguments:\n",
    "        X_train = train data features\n",
    "        y_train = train data labels\n",
    "        test_ = test data point\n",
    "        K = no. of nearest neighbors to consider for prediction\n",
    "    returns:\n",
    "        pre_class = predicted class of test_\n",
    "    '''\n",
    "    dist_ = np.sqrt(np.sum((X_train - test_)**2, axis=1))\n",
    "    index_ = dist_.sort_values(ascending=True)[:K].index\n",
    "    test_ = y_train[index_].reshape(1,-1)\n",
    "    pred_class = statistics.mode((test_).tolist()[0])\n",
    "    return pred_class"
   ]
  },
  {
   "cell_type": "code",
   "execution_count": 3,
   "id": "e888862a",
   "metadata": {},
   "outputs": [
    {
     "data": {
      "text/html": [
       "<div>\n",
       "<style scoped>\n",
       "    .dataframe tbody tr th:only-of-type {\n",
       "        vertical-align: middle;\n",
       "    }\n",
       "\n",
       "    .dataframe tbody tr th {\n",
       "        vertical-align: top;\n",
       "    }\n",
       "\n",
       "    .dataframe thead th {\n",
       "        text-align: right;\n",
       "    }\n",
       "</style>\n",
       "<table border=\"1\" class=\"dataframe\">\n",
       "  <thead>\n",
       "    <tr style=\"text-align: right;\">\n",
       "      <th></th>\n",
       "      <th>A</th>\n",
       "      <th>B</th>\n",
       "    </tr>\n",
       "  </thead>\n",
       "  <tbody>\n",
       "    <tr>\n",
       "      <th>0</th>\n",
       "      <td>0.747764</td>\n",
       "      <td>0.979518</td>\n",
       "    </tr>\n",
       "    <tr>\n",
       "      <th>1</th>\n",
       "      <td>0.955401</td>\n",
       "      <td>0.539734</td>\n",
       "    </tr>\n",
       "    <tr>\n",
       "      <th>2</th>\n",
       "      <td>0.047784</td>\n",
       "      <td>0.125769</td>\n",
       "    </tr>\n",
       "    <tr>\n",
       "      <th>3</th>\n",
       "      <td>0.519341</td>\n",
       "      <td>0.408951</td>\n",
       "    </tr>\n",
       "    <tr>\n",
       "      <th>4</th>\n",
       "      <td>0.184237</td>\n",
       "      <td>0.530011</td>\n",
       "    </tr>\n",
       "    <tr>\n",
       "      <th>5</th>\n",
       "      <td>0.392885</td>\n",
       "      <td>0.176223</td>\n",
       "    </tr>\n",
       "    <tr>\n",
       "      <th>6</th>\n",
       "      <td>0.186562</td>\n",
       "      <td>0.327840</td>\n",
       "    </tr>\n",
       "    <tr>\n",
       "      <th>7</th>\n",
       "      <td>0.538335</td>\n",
       "      <td>0.140451</td>\n",
       "    </tr>\n",
       "    <tr>\n",
       "      <th>8</th>\n",
       "      <td>0.396693</td>\n",
       "      <td>0.402888</td>\n",
       "    </tr>\n",
       "    <tr>\n",
       "      <th>9</th>\n",
       "      <td>0.529191</td>\n",
       "      <td>0.717336</td>\n",
       "    </tr>\n",
       "  </tbody>\n",
       "</table>\n",
       "</div>"
      ],
      "text/plain": [
       "          A         B\n",
       "0  0.747764  0.979518\n",
       "1  0.955401  0.539734\n",
       "2  0.047784  0.125769\n",
       "3  0.519341  0.408951\n",
       "4  0.184237  0.530011\n",
       "5  0.392885  0.176223\n",
       "6  0.186562  0.327840\n",
       "7  0.538335  0.140451\n",
       "8  0.396693  0.402888\n",
       "9  0.529191  0.717336"
      ]
     },
     "execution_count": 3,
     "metadata": {},
     "output_type": "execute_result"
    }
   ],
   "source": [
    "X = pd.DataFrame(np.random.rand(10,2), columns=['A','B'])\n",
    "X"
   ]
  },
  {
   "cell_type": "code",
   "execution_count": 4,
   "id": "c4f72bbb",
   "metadata": {},
   "outputs": [
    {
     "data": {
      "text/plain": [
       "array([[0],\n",
       "       [0],\n",
       "       [0],\n",
       "       [1],\n",
       "       [0],\n",
       "       [1],\n",
       "       [1],\n",
       "       [1],\n",
       "       [0],\n",
       "       [1]])"
      ]
     },
     "execution_count": 4,
     "metadata": {},
     "output_type": "execute_result"
    }
   ],
   "source": [
    "y = np.random.randint(2,size=(X.shape[0],1))\n",
    "y"
   ]
  },
  {
   "cell_type": "code",
   "execution_count": 5,
   "id": "d72868e4",
   "metadata": {},
   "outputs": [
    {
     "data": {
      "text/plain": [
       "array([[0.60707216, 0.72957981]])"
      ]
     },
     "execution_count": 5,
     "metadata": {},
     "output_type": "execute_result"
    }
   ],
   "source": [
    "test_ = np.random.rand(1,2)\n",
    "test_"
   ]
  },
  {
   "cell_type": "code",
   "execution_count": 6,
   "id": "6226a71c",
   "metadata": {},
   "outputs": [
    {
     "data": {
      "text/plain": [
       "1"
      ]
     },
     "execution_count": 6,
     "metadata": {},
     "output_type": "execute_result"
    }
   ],
   "source": [
    "knn_predict(X,y,test_,2)"
   ]
  },
  {
   "cell_type": "code",
   "execution_count": 9,
   "id": "496790c3",
   "metadata": {},
   "outputs": [
    {
     "data": {
      "image/png": "[encoded data removed]",
      "text/plain": [
       "<Figure size 432x288 with 1 Axes>"
      ]
     },
     "metadata": {
      "needs_background": "light"
     },
     "output_type": "display_data"
    }
   ],
   "source": [
    "sns.scatterplot(X.iloc[:,0], X.iloc[:,1], style=y.reshape(1,-1)[0].tolist())\n",
    "sns.scatterplot(test_[:,0], test_[:,1])\n",
    "plt.grid()\n",
    "plt.show()"
   ]
  },
  {
   "cell_type": "code",
   "execution_count": null,
   "id": "b8012ca3",
   "metadata": {},
   "outputs": [],
   "source": []
  }
 ],
 "metadata": {
  "kernelspec": {
   "display_name": "tf_env",
   "language": "python",
   "name": "tf_env"
  },
  "language_info": {
   "codemirror_mode": {
    "name": "ipython",
    "version": 3
   },
   "file_extension": ".py",
   "mimetype": "text/x-python",
   "name": "python",
   "nbconvert_exporter": "python",
   "pygments_lexer": "ipython3",
   "version": "3.8.5"
  }
 },
 "nbformat": 4,
 "nbformat_minor": 5
}
