{
 "cells": [
  {
   "cell_type": "code",
   "execution_count": 1,
   "id": "7cf1701f",
   "metadata": {},
   "outputs": [],
   "source": [
    "# importing dependencies\n",
    "\n",
    "import numpy as np\n",
    "import pandas as pd\n",
    "\n",
    "import matplotlib.pyplot as plt\n",
    "import seaborn as sns\n",
    "\n",
    "import warnings\n",
    "warnings.filterwarnings('ignore')"
   ]
  },
  {
   "cell_type": "code",
   "execution_count": 2,
   "id": "2011d555",
   "metadata": {},
   "outputs": [],
   "source": [
    "class k_mean():\n",
    "    '''\n",
    "    defining k_mean class\n",
    "    '''\n",
    "    \n",
    "    def __init__(self, X, no_of_clusters=3):\n",
    "        '''\n",
    "        class object constructor for k_mean\n",
    "        arguments:\n",
    "            X = data points\n",
    "            no_of_clusters = number of clusters to be generated\n",
    "        '''\n",
    "        self.X = X\n",
    "        self.no_of_clusters = no_of_clusters\n",
    "        \n",
    "        # dataframe for all the cluster-centroids\n",
    "        self.clusters_ = pd.DataFrame(np.random.rand(self.no_of_clusters, self.X.shape[1]), \n",
    "                                    columns = self.X.columns)\n",
    "        \n",
    "        # dataframe for storing all the distances from among data and centroids \n",
    "        self.dist_df = pd.DataFrame(np.zeros((self.X.shape[0],no_of_clusters)), \n",
    "                                    columns = np.arange(1,no_of_clusters+1))\n",
    "           \n",
    "    def random_centroid_generate(self):\n",
    "        '''\n",
    "        generate random centroids\n",
    "        '''\n",
    "        return np.random.rand(self.no_of_clusters, self.X.shape[1])\n",
    "\n",
    "    def dist_from_centroids(self):\n",
    "        '''\n",
    "        filling the distance dataframe dist_df\n",
    "        '''\n",
    "        for i in range(self.no_of_clusters):\n",
    "            dis_ = []\n",
    "            for j in range(self.X.shape[0]):\n",
    "                dis_.append(self.find_distance(self.X.iloc[j], self.clusters_.iloc[i]))\n",
    "            self.dist_df[i+1] = dis_\n",
    "            \n",
    "    def allot_cluster(self):\n",
    "        '''\n",
    "        allocating datapoints to the respective clusters based on their distances from centroids\n",
    "        '''\n",
    "        clus_ = []\n",
    "        for i in range(self.X.shape[0]):\n",
    "            clus_.append(self.dist_df.iloc[i].sort_values(ascending=True).index[0])            \n",
    "        self.dist_df['cluster'] = clus_\n",
    "        \n",
    "    def update_centroids(self):\n",
    "        '''\n",
    "        method to update the cluster centroids\n",
    "        '''\n",
    "        self.X['centroids'] = self.dist_df['cluster']\n",
    "        updated_centroids = self.X.groupby('centroids').mean()\n",
    "        self.X.drop('centroids', axis=1, inplace=True)\n",
    "        self.clusters_ = pd.DataFrame(updated_centroids.to_numpy(), \n",
    "                                    columns = self.X.columns)\n",
    "\n",
    "                \n",
    "            \n",
    "    def find_distance(self, a, b):\n",
    "        '''\n",
    "        method to return the Euclidean distance\n",
    "        '''\n",
    "        return np.sqrt(np.sum((a-b)**2))"
   ]
  },
  {
   "cell_type": "code",
   "execution_count": 3,
   "id": "afe103c0",
   "metadata": {},
   "outputs": [
    {
     "data": {
      "text/html": [
       "<div>\n",
       "<style scoped>\n",
       "    .dataframe tbody tr th:only-of-type {\n",
       "        vertical-align: middle;\n",
       "    }\n",
       "\n",
       "    .dataframe tbody tr th {\n",
       "        vertical-align: top;\n",
       "    }\n",
       "\n",
       "    .dataframe thead th {\n",
       "        text-align: right;\n",
       "    }\n",
       "</style>\n",
       "<table border=\"1\" class=\"dataframe\">\n",
       "  <thead>\n",
       "    <tr style=\"text-align: right;\">\n",
       "      <th></th>\n",
       "      <th>A</th>\n",
       "      <th>B</th>\n",
       "      <th>C</th>\n",
       "    </tr>\n",
       "  </thead>\n",
       "  <tbody>\n",
       "    <tr>\n",
       "      <th>0</th>\n",
       "      <td>0.148141</td>\n",
       "      <td>0.354294</td>\n",
       "      <td>0.454526</td>\n",
       "    </tr>\n",
       "    <tr>\n",
       "      <th>1</th>\n",
       "      <td>0.950753</td>\n",
       "      <td>0.266937</td>\n",
       "      <td>0.814013</td>\n",
       "    </tr>\n",
       "    <tr>\n",
       "      <th>2</th>\n",
       "      <td>0.078933</td>\n",
       "      <td>0.971051</td>\n",
       "      <td>0.534007</td>\n",
       "    </tr>\n",
       "    <tr>\n",
       "      <th>3</th>\n",
       "      <td>0.699061</td>\n",
       "      <td>0.195207</td>\n",
       "      <td>0.716417</td>\n",
       "    </tr>\n",
       "    <tr>\n",
       "      <th>4</th>\n",
       "      <td>0.639116</td>\n",
       "      <td>0.597428</td>\n",
       "      <td>0.379863</td>\n",
       "    </tr>\n",
       "  </tbody>\n",
       "</table>\n",
       "</div>"
      ],
      "text/plain": [
       "          A         B         C\n",
       "0  0.148141  0.354294  0.454526\n",
       "1  0.950753  0.266937  0.814013\n",
       "2  0.078933  0.971051  0.534007\n",
       "3  0.699061  0.195207  0.716417\n",
       "4  0.639116  0.597428  0.379863"
      ]
     },
     "execution_count": 3,
     "metadata": {},
     "output_type": "execute_result"
    }
   ],
   "source": [
    "# creating the random dataset\n",
    "X = pd.DataFrame(np.random.rand(50,3), columns=['A','B','C'])\n",
    "X.head()"
   ]
  },
  {
   "cell_type": "code",
   "execution_count": 4,
   "id": "4131b962",
   "metadata": {},
   "outputs": [],
   "source": [
    "def main():\n",
    "    X = pd.DataFrame(np.random.rand(50,2), columns=['A','B'])\n",
    "    model = k_mean(X,2)\n",
    "    model.random_centroid_generate()\n",
    "    \n",
    "    # defining the no. of iterations and updating the allocations\n",
    "    iterations = 5\n",
    "    for i in range(iterations):\n",
    "        model.dist_from_centroids()\n",
    "        model.allot_cluster()\n",
    "        model.update_centroids()\n",
    "        \n",
    "    plt.figure(figsize=(7,7))\n",
    "    sns.scatterplot(X['A'], X['B'], style = model.dist_df['cluster'])\n",
    "    sns.scatterplot(model.clusters_['A'], model.clusters_['B'], marker=\"*\")\n",
    "    plt.grid()\n",
    "    plt.show()\n",
    "    "
   ]
  },
  {
   "cell_type": "code",
   "execution_count": 5,
   "id": "9e5fbb31",
   "metadata": {
    "scrolled": false
   },
   "outputs": [
    {
     "data": {
      "image/png": "[encoded data removed]",
      "text/plain": [
       "<Figure size 504x504 with 1 Axes>"
      ]
     },
     "metadata": {
      "needs_background": "light"
     },
     "output_type": "display_data"
    }
   ],
   "source": [
    "if __name__== '__main__':\n",
    "    main()"
   ]
  }
 ],
 "metadata": {
  "kernelspec": {
   "display_name": "tf_env",
   "language": "python",
   "name": "tf_env"
  },
  "language_info": {
   "codemirror_mode": {
    "name": "ipython",
    "version": 3
   },
   "file_extension": ".py",
   "mimetype": "text/x-python",
   "name": "python",
   "nbconvert_exporter": "python",
   "pygments_lexer": "ipython3",
   "version": "3.8.5"
  }
 },
 "nbformat": 4,
 "nbformat_minor": 5
}
