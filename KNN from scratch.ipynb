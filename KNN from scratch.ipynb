{
 "cells": [
  {
   "cell_type": "code",
   "execution_count": 1,
   "id": "5faac2a8",
   "metadata": {},
   "outputs": [],
   "source": [
    "# importing dependencies\n",
    "\n",
    "import numpy as np\n",
    "import pandas as pd\n",
    "import statistics\n",
    "\n",
    "import matplotlib.pyplot as plt\n",
    "import seaborn as sns\n",
    "\n",
    "import warnings\n",
    "warnings.filterwarnings('ignore')"
   ]
  },
  {
   "cell_type": "code",
   "execution_count": 2,
   "id": "eda66cf9",
   "metadata": {},
   "outputs": [],
   "source": [
    "def knn_predict(X_train, y_train, test_, K=5, distance = 'Euclidean'):\n",
    "    '''\n",
    "    function to predict the classs with KNN algorithm\n",
    "    arguments:\n",
    "        X_train = train data features\n",
    "        y_train = train data labels\n",
    "        test_ = test data point\n",
    "        K = no. of nearest neighbors to consider for prediction\n",
    "        distance = 'Euclidean' or 'Manhattan'\n",
    "    returns:\n",
    "        pre_class = predicted class of test_\n",
    "    '''\n",
    "    \n",
    "    # calculating Euclidean distance of all the train data points from test_ \n",
    "    if distance == 'Euclidean':\n",
    "        dist_ = np.sqrt(np.sum((X_train - test_)**2, axis=1))\n",
    "    elif distance == 'Manhattan':\n",
    "        dist_ = np.sum(np.abs(X_train - test_), axis=1)\n",
    "    else:\n",
    "        return print('Please specify the valid distance measure')\n",
    "    \n",
    "    # getting the index of nearest neighbors from train data\n",
    "    index_ = dist_.sort_values(ascending=True)[:K].index\n",
    "    \n",
    "    # predicting class based on mode statistics\n",
    "    test_ = y_train[index_].reshape(1,-1)\n",
    "    pred_class = statistics.mode((test_).tolist()[0])\n",
    "    \n",
    "    return pred_class"
   ]
  },
  {
   "cell_type": "code",
   "execution_count": 3,
   "id": "25d84b50",
   "metadata": {},
   "outputs": [
    {
     "name": "stdout",
     "output_type": "stream",
     "text": [
      "The predicted class is: 1\n"
     ]
    }
   ],
   "source": [
    "# creating dummy data\n",
    "X = pd.DataFrame(np.random.rand(30,2), columns=['A','B'])\n",
    "y = np.random.randint(3,size=(X.shape[0],1))\n",
    "\n",
    "test_ = np.random.rand(1,2)\n",
    "\n",
    "# predicting the class\n",
    "print('The predicted class is:' ,knn_predict(X,y,test_,2,'Euclidean'))"
   ]
  },
  {
   "cell_type": "code",
   "execution_count": 4,
   "id": "6b3a9217",
   "metadata": {},
   "outputs": [
    {
     "data": {
      "image/png": "[encoded data removed]",
      "text/plain": [
       "<Figure size 504x504 with 1 Axes>"
      ]
     },
     "metadata": {
      "needs_background": "light"
     },
     "output_type": "display_data"
    }
   ],
   "source": [
    "# plotting the results\n",
    "\n",
    "plt.figure(figsize=(7,7))\n",
    "sns.scatterplot(X.iloc[:,0], X.iloc[:,1], style=y.reshape(1,-1)[0].tolist())\n",
    "sns.scatterplot(test_[:,0], test_[:,1])\n",
    "plt.grid()\n",
    "plt.show()"
   ]
  }
 ],
 "metadata": {
  "kernelspec": {
   "display_name": "tf_env",
   "language": "python",
   "name": "tf_env"
  },
  "language_info": {
   "codemirror_mode": {
    "name": "ipython",
    "version": 3
   },
   "file_extension": ".py",
   "mimetype": "text/x-python",
   "name": "python",
   "nbconvert_exporter": "python",
   "pygments_lexer": "ipython3",
   "version": "3.8.5"
  }
 },
 "nbformat": 4,
 "nbformat_minor": 5
}
